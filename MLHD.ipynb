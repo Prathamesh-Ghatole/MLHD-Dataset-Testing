{
 "cells": [
  {
   "cell_type": "markdown",
   "id": "1aae9e68",
   "metadata": {},
   "source": [
    "# Import Lib"
   ]
  },
  {
   "cell_type": "code",
   "execution_count": 1,
   "id": "0782df30",
   "metadata": {},
   "outputs": [],
   "source": [
    "import pandas as pd\n",
    "import os\n",
    "import psycopg2\n",
    "import numpy as np\n",
    "import dask.dataframe as dd\n",
    "import random\n",
    "# import sqlalchemy as sql"
   ]
  },
  {
   "cell_type": "markdown",
   "id": "22ea9c07",
   "metadata": {},
   "source": [
    "# Create Connection to PostgreSQL"
   ]
  },
  {
   "cell_type": "code",
   "execution_count": 2,
   "id": "9827eb15",
   "metadata": {},
   "outputs": [
    {
     "name": "stdout",
     "output_type": "stream",
     "text": [
      "connection successful\n"
     ]
    }
   ],
   "source": [
    "# Create Connection to postgresql\n",
    "\n",
    "conn = psycopg2.connect(\n",
    "    host=\"localhost\",\n",
    "    database=\"musicbrainz_db\",\n",
    "    user=\"musicbrainz\",\n",
    "    port=5432)\n",
    "\n",
    "cursor = conn.cursor()\n",
    "\n",
    "# psql -h localhost -p 25432 -U musicbrainz musicbrainz_db\n",
    "\n",
    "# engine = sql.create_engine('postgresql:///musicbrainz_db')\n",
    "# connection = engine.connect()\n",
    "print(\"connection successful\")"
   ]
  },
  {
   "cell_type": "code",
   "execution_count": 14,
   "id": "56cd7818",
   "metadata": {},
   "outputs": [],
   "source": [
    "#Load up MLHD Data Folder\n",
    "\n",
    "filelist = os.listdir('/data/mlhd/00')\n",
    "\n",
    "path = lambda name: '/data/mlhd/00/{}'.format(name)\n",
    "file_paths = [path(name) for name in filelist]\n",
    "\n",
    "first_10 = file_paths[:10]"
   ]
  },
  {
   "cell_type": "code",
   "execution_count": 12,
   "id": "56e4c429",
   "metadata": {},
   "outputs": [
    {
     "data": {
      "text/plain": [
       "['/data/mlhd/4d/4d93959d-f872-42a4-b262-69f6800d5e42.txt.gz',\n",
       " '/data/mlhd/76/760d28ab-0950-428d-bdb4-de3a124336f9.txt.gz',\n",
       " '/data/mlhd/b4/b4666dd6-9ae6-4ef7-b40f-a1f4c154242f.txt.gz',\n",
       " '/data/mlhd/d0/d009df63-b2f9-4864-8664-5decd4dad443.txt.gz',\n",
       " '/data/mlhd/55/55bf8013-ebcf-4241-996f-15b0af947638.txt.gz',\n",
       " '/data/mlhd/d7/d75c3092-fcd6-4b02-98f6-2ab6acb27471.txt.gz',\n",
       " '/data/mlhd/d3/d39ee1d8-b6c2-42e0-a7d4-5dd1fd4fbd54.txt.gz',\n",
       " '/data/mlhd/f6/f6beb986-45a3-4e3d-a976-9b150b555f3c.txt.gz',\n",
       " '/data/mlhd/35/3531c6c1-7784-46ff-b5c1-4d72d395ed27.txt.gz',\n",
       " '/data/mlhd/e7/e79c358c-6223-4c1a-b84b-41ceaa592574.txt.gz']"
      ]
     },
     "execution_count": 12,
     "metadata": {},
     "output_type": "execute_result"
    }
   ],
   "source": [
    "# #random folder selector\n",
    "# master_folder = os.listdir('/data/mlhd')\n",
    "# folder_list = random.sample(master_folder, 10)\n",
    "\n",
    "# #random file selection\n",
    "# random_file_paths = []\n",
    "# for folder in folder_list:\n",
    "#     random_file = random.sample(os.listdir('/data/mlhd/'+(folder)), 1)[0]\n",
    "# #     print(random_file)\n",
    "#     path = '/data/mlhd/'+folder+'/'+random_file\n",
    "#     random_file_paths.append(path)\n",
    "\n",
    "# random_file_paths "
   ]
  },
  {
   "cell_type": "code",
   "execution_count": 17,
   "id": "6b06283a",
   "metadata": {},
   "outputs": [
    {
     "name": "stdout",
     "output_type": "stream",
     "text": [
      "22963\n"
     ]
    },
    {
     "data": {
      "text/html": [
       "<div>\n",
       "<style scoped>\n",
       "    .dataframe tbody tr th:only-of-type {\n",
       "        vertical-align: middle;\n",
       "    }\n",
       "\n",
       "    .dataframe tbody tr th {\n",
       "        vertical-align: top;\n",
       "    }\n",
       "\n",
       "    .dataframe thead th {\n",
       "        text-align: right;\n",
       "    }\n",
       "</style>\n",
       "<table border=\"1\" class=\"dataframe\">\n",
       "  <thead>\n",
       "    <tr style=\"text-align: right;\">\n",
       "      <th></th>\n",
       "      <th>timestamp</th>\n",
       "      <th>artist-MBID</th>\n",
       "      <th>release-MBID</th>\n",
       "      <th>recording-MBID</th>\n",
       "    </tr>\n",
       "  </thead>\n",
       "  <tbody>\n",
       "    <tr>\n",
       "      <th>0</th>\n",
       "      <td>1117464483</td>\n",
       "      <td>149e6720-4e4a-41a4-afca-6d29083fc091</td>\n",
       "      <td>549c0ea1-f42f-41f1-8276-e9bb8404fd3d</td>\n",
       "      <td>39072afe-b552-41bb-9660-8e431d53dfb0</td>\n",
       "    </tr>\n",
       "    <tr>\n",
       "      <th>1</th>\n",
       "      <td>1117505284</td>\n",
       "      <td>690c818f-a578-4e04-834a-a94dac6e3759</td>\n",
       "      <td>6d955eac-73fa-3cfe-bb9d-e5c2d0f5599a</td>\n",
       "      <td>2f6735c2-332b-4b05-85ec-b22eb27160b7</td>\n",
       "    </tr>\n",
       "    <tr>\n",
       "      <th>2</th>\n",
       "      <td>1117505646</td>\n",
       "      <td>14cd43ce-306b-463d-ad84-984c8f7b73ed</td>\n",
       "      <td>765c3615-9f26-4c9c-bcfc-1ff2a48d867c</td>\n",
       "      <td>0bd2efc9-96b3-4adf-b758-fd41b325d0b6</td>\n",
       "    </tr>\n",
       "    <tr>\n",
       "      <th>3</th>\n",
       "      <td>1117505758</td>\n",
       "      <td>14cd43ce-306b-463d-ad84-984c8f7b73ed</td>\n",
       "      <td>765c3615-9f26-4c9c-bcfc-1ff2a48d867c</td>\n",
       "      <td>98b7d4a6-7586-44ab-82e7-9b4a3095fe4b</td>\n",
       "    </tr>\n",
       "    <tr>\n",
       "      <th>4</th>\n",
       "      <td>1117506018</td>\n",
       "      <td>1a04561c-10dc-4a2e-b94c-19718ed1e0c7</td>\n",
       "      <td>ca42c729-e0ac-45bc-80ef-eff92b3da9c7</td>\n",
       "      <td>013f2240-5304-40d0-8b91-f1c365b59c35</td>\n",
       "    </tr>\n",
       "  </tbody>\n",
       "</table>\n",
       "</div>"
      ],
      "text/plain": [
       "    timestamp                           artist-MBID  \\\n",
       "0  1117464483  149e6720-4e4a-41a4-afca-6d29083fc091   \n",
       "1  1117505284  690c818f-a578-4e04-834a-a94dac6e3759   \n",
       "2  1117505646  14cd43ce-306b-463d-ad84-984c8f7b73ed   \n",
       "3  1117505758  14cd43ce-306b-463d-ad84-984c8f7b73ed   \n",
       "4  1117506018  1a04561c-10dc-4a2e-b94c-19718ed1e0c7   \n",
       "\n",
       "                           release-MBID                        recording-MBID  \n",
       "0  549c0ea1-f42f-41f1-8276-e9bb8404fd3d  39072afe-b552-41bb-9660-8e431d53dfb0  \n",
       "1  6d955eac-73fa-3cfe-bb9d-e5c2d0f5599a  2f6735c2-332b-4b05-85ec-b22eb27160b7  \n",
       "2  765c3615-9f26-4c9c-bcfc-1ff2a48d867c  0bd2efc9-96b3-4adf-b758-fd41b325d0b6  \n",
       "3  765c3615-9f26-4c9c-bcfc-1ff2a48d867c  98b7d4a6-7586-44ab-82e7-9b4a3095fe4b  \n",
       "4  ca42c729-e0ac-45bc-80ef-eff92b3da9c7  013f2240-5304-40d0-8b91-f1c365b59c35  "
      ]
     },
     "execution_count": 17,
     "metadata": {},
     "output_type": "execute_result"
    }
   ],
   "source": [
    "# fetch df\n",
    "\n",
    "# Use dask.dataframe since it's ~ 14x faster than pandas dataframe! \n",
    "\n",
    "def fetch_df_dd(pth):\n",
    "    df = dd.read_csv(pth, sep='\\t', names=['timestamp', 'artist-MBID', 'release-MBID', 'recording-MBID'], blocksize=None)\n",
    "    df = df[-df['recording-MBID'].isna()]\n",
    "    return df\n",
    "\n",
    "df = fetch_df_dd(file_paths[0])\n",
    "print(len(df))\n",
    "df.head()"
   ]
  },
  {
   "cell_type": "code",
   "execution_count": 9,
   "id": "1d3ed4f7",
   "metadata": {},
   "outputs": [],
   "source": [
    "# A function to take single mbid as input and: \n",
    "# 1. cross check with recording table. If present, return the SAME recording-mbid from recording table.\n",
    "# 2. If not in recording table, check in track table. If present, return \n",
    "# 3. If not in recording/track table, check if it exists in the recording_gid_redirect table\n",
    "# 4. If not in any of the above tables, add the mbid to bad_entries list.\n",
    "\n",
    "# Check if a recording-MBID exists in the \"recording\" table. If exists, return the mbid. If not, return None\n",
    "def check_in_recording(rec_mbid):\n",
    "    cursor.execute(\"SELECT gid FROM recording WHERE gid=%(id)s;\", {'id':rec_mbid})\n",
    "    fetch = cursor.fetchone()\n",
    "    \n",
    "    if type(fetch) == tuple:\n",
    "        return fetch[0]\n",
    "    else:\n",
    "        count_not_recording.add(rec_mbid)\n",
    "        return None\n",
    "\n",
    "# If MBID in recording_gid_redirect, return the redirected MBID. Else, return None\n",
    "def check_in_redirect(rec_mbid):\n",
    "    cursor.execute(\"select r.gid from recording r join recording_gid_redirect rgr on rgr.new_id = r.id where rgr.gid = %(id)s;\", {'id':rec_mbid})\n",
    "    fetch = cursor.fetchone()\n",
    "    \n",
    "    if type(fetch) == tuple:\n",
    "        return fetch[0]\n",
    "    else:\n",
    "        count_not_redirect.add(rec_mbid)\n",
    "        return None\n",
    "\n",
    "\n",
    "# Check if a recording-MBID exists in the \"track\" table. If not, return None. \n",
    "# If yes, append the track-mbid to the list track_mbids\n",
    "\n",
    "track_mbids = []\n",
    "def check_in_track(rec_mbid):\n",
    "    cursor.execute(\"SELECT gid FROM track WHERE gid=%(id)s;\", {'id':rec_mbid})\n",
    "    fetch = cursor.fetchone()\n",
    "    \n",
    "    if type(fetch) == tuple:\n",
    "        track_mbids.add(rec_mbid)\n",
    "        return fetch[0]\n",
    "    else:\n",
    "        count_not_track.add(rec_mbid)\n",
    "        return None\n",
    "    \n",
    "# Function to validate MBIDs and replace MBIDS through a chain of functions.\n",
    "def check_validity(rec_mbid):\n",
    "    x = check_in_recording(rec_mbid)\n",
    "    \n",
    "    if x != None:\n",
    "        return x\n",
    "    else:\n",
    "        x = check_in_redirect(rec_mbid)\n",
    "    \n",
    "        if x != None:\n",
    "            return x\n",
    "        else:            \n",
    "            x = check_in_track(rec_mbid)\n",
    "            \n",
    "            if x!= None:\n",
    "                return x\n",
    "            else:\n",
    "                return None\n",
    "            \n",
    "# Simple function to take single mbid as input and:\n",
    "# Find its canonical MBID\n",
    "def get_canon(rec_mbid):\n",
    "    cursor.execute(\"SELECT canonical_recording_mbid FROM mapping.canonical_recording WHERE recording_mbid=%(id)s;\", {'id':rec_mbid})\n",
    "    if cursor.fetchone()!=None:\n",
    "        count_not_canonical.add(rec_mbid)\n",
    "        return cursor.fetchone()\n",
    "    else:\n",
    "        return rec_mbid"
   ]
  },
  {
   "cell_type": "code",
   "execution_count": 10,
   "id": "99617c97",
   "metadata": {},
   "outputs": [],
   "source": [
    "# Declaring count sets\n",
    "count_not_recording, count_not_redirect, count_not_track, count_misc, count_not_canonical = set(), set(), set(), set(), set()\n",
    "\n",
    "# Driver function to check validity and get canononical MBID.\n",
    "def driver_function(rec_mbid):\n",
    "    x = check_validity(rec_mbid)\n",
    "    if x != None:\n",
    "        return get_canon(rec_mbid)\n",
    "    else:\n",
    "        return None"
   ]
  },
  {
   "cell_type": "code",
   "execution_count": 11,
   "id": "079e1ab5",
   "metadata": {},
   "outputs": [],
   "source": [
    "df2 = df['recording-MBID'].map(driver_function, meta=('x', str)).compute()\n",
    "# track_mbids"
   ]
  },
  {
   "cell_type": "code",
   "execution_count": 12,
   "id": "fa4bc746",
   "metadata": {},
   "outputs": [
    {
     "name": "stdout",
     "output_type": "stream",
     "text": [
      "total rows in dataset = 9700\n",
      "number of Null values in appended to the dataset = 13\n",
      "number of values not present in the table 'recording' = 513\n",
      "number of values not present niether in the table 'recording' nor in 'redirect' = 7\n",
      "num of values niether in recording, nor redirect, nor track = 7\n",
      "number of track-MBIDs in the recording-MBID column = 0\n",
      "num of broken MBIDs = 7\n",
      "num of non-canonical IDs found in recording-mbid table = 0\n"
     ]
    }
   ],
   "source": [
    "print(\"total rows in dataset =\", len(df))\n",
    "print(\"number of Null values in appended to the dataset =\", df2.isna().sum())\n",
    "print(\"number of values not present in the table 'recording' =\",len(count_not_recording))\n",
    "print(\"number of values not present niether in the table 'recording' nor in 'redirect' =\",len(count_not_redirect))\n",
    "print(\"num of values niether in recording, nor redirect, nor track =\",len(count_not_track))\n",
    "print(\"number of track-MBIDs in the recording-MBID column =\",len(track_mbids))\n",
    "print(\"num of broken MBIDs =\", len(count_not_redirect.intersection(count_not_track)))\n",
    "print(\"num of non-canonical IDs found in recording-mbid table =\", len(count_not_canonical))"
   ]
  },
  {
   "cell_type": "markdown",
   "id": "b2027138",
   "metadata": {},
   "source": [
    "### Copied result from the above computation ^\n",
    "\n",
    "total rows in dataset = 9700\n",
    "\n",
    "number of Null values in appended to the dataset = 13\n",
    "\n",
    "number of values not present in the table 'recording' = 513\n",
    "\n",
    "number of values not present niether in the table 'recording' nor in 'redirect' = 7\n",
    "\n",
    "num of values niether in recording, nor redirect, nor track = 7\n",
    "\n",
    "number of track-MBIDs in the recording-MBID column = 0\n",
    "\n",
    "num of broken MBIDs = 7\n",
    "\n",
    "num of non-canonical IDs found in recording-mbid table = 0"
   ]
  },
  {
   "cell_type": "code",
   "execution_count": null,
   "id": "deeaea6a",
   "metadata": {},
   "outputs": [],
   "source": []
  }
 ],
 "metadata": {
  "kernelspec": {
   "display_name": "Python 3 (ipykernel)",
   "language": "python",
   "name": "python3"
  },
  "language_info": {
   "codemirror_mode": {
    "name": "ipython",
    "version": 3
   },
   "file_extension": ".py",
   "mimetype": "text/x-python",
   "name": "python",
   "nbconvert_exporter": "python",
   "pygments_lexer": "ipython3",
   "version": "3.8.10"
  }
 },
 "nbformat": 4,
 "nbformat_minor": 5
}
