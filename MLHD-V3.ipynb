{
 "cells": [
  {
   "cell_type": "markdown",
   "id": "809694e3",
   "metadata": {},
   "source": [
    "### Import Lib"
   ]
  },
  {
   "cell_type": "code",
   "execution_count": 2,
   "id": "0782df30",
   "metadata": {},
   "outputs": [],
   "source": [
    "import pandas as pd\n",
    "import os\n",
    "import psycopg2\n",
    "import numpy as np\n",
    "import dask.dataframe as dd\n",
    "import random\n",
    "results = []\n",
    "# import sqlalchemy as sql"
   ]
  },
  {
   "cell_type": "markdown",
   "id": "0c129a68",
   "metadata": {},
   "source": [
    "### Create Connection to PostgreSQL"
   ]
  },
  {
   "cell_type": "code",
   "execution_count": 3,
   "id": "9827eb15",
   "metadata": {},
   "outputs": [
    {
     "name": "stdout",
     "output_type": "stream",
     "text": [
      "connection successful\n"
     ]
    }
   ],
   "source": [
    "# Create Connection to postgresql\n",
    "\n",
    "conn = psycopg2.connect(\n",
    "    host=\"localhost\",\n",
    "    database=\"musicbrainz_db\",\n",
    "    user=\"musicbrainz\",\n",
    "    port=5432)\n",
    "\n",
    "cursor = conn.cursor()\n",
    "\n",
    "# psql -h localhost -p 25432 -U musicbrainz musicbrainz_db\n",
    "\n",
    "# engine = sql.create_engine('postgresql:///musicbrainz_db')\n",
    "# connection = engine.connect()\n",
    "cursor.execute(\"select * from recording limit 1;\")\n",
    "cursor.fetchone()[0]\n",
    "print(\"connection successful\")"
   ]
  },
  {
   "cell_type": "markdown",
   "id": "0c7e699b",
   "metadata": {},
   "source": [
    "### Select Random file paths"
   ]
  },
  {
   "cell_type": "code",
   "execution_count": 4,
   "id": "56cd7818",
   "metadata": {},
   "outputs": [],
   "source": [
    "# #Load up MLHD Data Folder\n",
    "\n",
    "# filelist = os.listdir('/data/mlhd/00')\n",
    "\n",
    "# path = lambda name: '/data/mlhd/00/{}'.format(name)\n",
    "# file_paths = [path(name) for name in filelist]\n",
    "\n",
    "# first_10 = file_paths[:10]"
   ]
  },
  {
   "cell_type": "code",
   "execution_count": 5,
   "id": "63942b4d",
   "metadata": {},
   "outputs": [],
   "source": [
    "# #random folder selector\n",
    "# master_folder = os.listdir('/data/mlhd')\n",
    "# folder_list = random.sample(master_folder, 10)\n",
    "\n",
    "# #random file selection\n",
    "# file_paths = []\n",
    "# for folder in folder_list:\n",
    "#     random_file = random.sample(os.listdir('/data/mlhd/'+(folder)), 1)[0]\n",
    "# #     print(random_file)\n",
    "#     path = '/data/mlhd/'+folder+'/'+random_file\n",
    "#     file_paths.append(path)\n",
    "\n",
    "# file_paths"
   ]
  },
  {
   "cell_type": "markdown",
   "id": "4c18b906",
   "metadata": {},
   "source": [
    "### Warning: Running this code-block will replace existing random file_list"
   ]
  },
  {
   "cell_type": "code",
   "execution_count": 6,
   "id": "50061a7e",
   "metadata": {},
   "outputs": [],
   "source": [
    "# with open('random_file_paths.txt', 'w+') as f:\n",
    "#     f.writelines([name+'\\n' for name in file_paths])"
   ]
  },
  {
   "cell_type": "markdown",
   "id": "40918acf",
   "metadata": {},
   "source": [
    "### Read frozen stored random files"
   ]
  },
  {
   "cell_type": "code",
   "execution_count": 7,
   "id": "13f16fd1",
   "metadata": {},
   "outputs": [
    {
     "data": {
      "text/plain": [
       "['/data/mlhd/07/07beee31-451d-4346-9f83-144671d68f7b.txt.gz',\n",
       " '/data/mlhd/86/86482586-681c-43f6-8fda-05d0e5c3a5c3.txt.gz',\n",
       " '/data/mlhd/aa/aaaec8b6-6ec5-4efa-b9ee-ee089431d9c3.txt.gz',\n",
       " '/data/mlhd/0d/0d309017-bc04-4c2b-be84-ee01899fe087.txt.gz',\n",
       " '/data/mlhd/b3/b3ded736-58be-45ed-a018-5803c9eae282.txt.gz',\n",
       " '/data/mlhd/82/822abba8-6493-49ae-b70f-35f1ad8ca052.txt.gz',\n",
       " '/data/mlhd/56/567d224e-0660-4eaf-a6f5-34f7abe7e609.txt.gz',\n",
       " '/data/mlhd/4d/4d68890f-29d1-402d-8650-43941e1a3559.txt.gz',\n",
       " '/data/mlhd/ad/ad2ff9c6-7c80-4835-80b4-c117de9a2c2b.txt.gz',\n",
       " '/data/mlhd/e7/e7305d9a-260c-47b0-ba1b-01892300fa68.txt.gz']"
      ]
     },
     "execution_count": 7,
     "metadata": {},
     "output_type": "execute_result"
    }
   ],
   "source": [
    "with open('random_file_paths.txt', 'r') as f:\n",
    "    file_paths = f.readlines()\n",
    "    file_paths= [item.strip() for item in file_paths]\n",
    "    \n",
    "(file_paths)"
   ]
  },
  {
   "cell_type": "code",
   "execution_count": 8,
   "id": "6b06283a",
   "metadata": {},
   "outputs": [
    {
     "name": "stdout",
     "output_type": "stream",
     "text": [
      "10694\n"
     ]
    },
    {
     "data": {
      "text/html": [
       "<div>\n",
       "<style scoped>\n",
       "    .dataframe tbody tr th:only-of-type {\n",
       "        vertical-align: middle;\n",
       "    }\n",
       "\n",
       "    .dataframe tbody tr th {\n",
       "        vertical-align: top;\n",
       "    }\n",
       "\n",
       "    .dataframe thead th {\n",
       "        text-align: right;\n",
       "    }\n",
       "</style>\n",
       "<table border=\"1\" class=\"dataframe\">\n",
       "  <thead>\n",
       "    <tr style=\"text-align: right;\">\n",
       "      <th></th>\n",
       "      <th>timestamp</th>\n",
       "      <th>artist-MBID</th>\n",
       "      <th>release-MBID</th>\n",
       "      <th>recording-MBID</th>\n",
       "    </tr>\n",
       "  </thead>\n",
       "  <tbody>\n",
       "    <tr>\n",
       "      <th>0</th>\n",
       "      <td>1238828757</td>\n",
       "      <td>71f17703-cd11-4579-b08a-1b1c8e6f5ac2</td>\n",
       "      <td>15efe0ab-055a-4562-b290-be39336e49bd</td>\n",
       "      <td>986dd819-7c83-4c9e-905b-6cb65ccbea3b</td>\n",
       "    </tr>\n",
       "    <tr>\n",
       "      <th>1</th>\n",
       "      <td>1238828982</td>\n",
       "      <td>71f17703-cd11-4579-b08a-1b1c8e6f5ac2</td>\n",
       "      <td>15efe0ab-055a-4562-b290-be39336e49bd</td>\n",
       "      <td>52d46c9b-96f4-4e59-8216-68f8b5ee2b89</td>\n",
       "    </tr>\n",
       "    <tr>\n",
       "      <th>2</th>\n",
       "      <td>1238829203</td>\n",
       "      <td>71f17703-cd11-4579-b08a-1b1c8e6f5ac2</td>\n",
       "      <td>15efe0ab-055a-4562-b290-be39336e49bd</td>\n",
       "      <td>200c74aa-7d6d-4a9b-8284-35094186a00b</td>\n",
       "    </tr>\n",
       "    <tr>\n",
       "      <th>4</th>\n",
       "      <td>1239496830</td>\n",
       "      <td>0039c7ae-e1a7-4a7d-9b49-0cbc716821a6</td>\n",
       "      <td>NaN</td>\n",
       "      <td>06bf6d0c-3094-492e-92fc-4867b9364d0b</td>\n",
       "    </tr>\n",
       "    <tr>\n",
       "      <th>5</th>\n",
       "      <td>1239497092</td>\n",
       "      <td>0039c7ae-e1a7-4a7d-9b49-0cbc716821a6</td>\n",
       "      <td>NaN</td>\n",
       "      <td>571b7e68-b7cf-4d33-97e2-b59eb7d00b9d</td>\n",
       "    </tr>\n",
       "  </tbody>\n",
       "</table>\n",
       "</div>"
      ],
      "text/plain": [
       "    timestamp                           artist-MBID  \\\n",
       "0  1238828757  71f17703-cd11-4579-b08a-1b1c8e6f5ac2   \n",
       "1  1238828982  71f17703-cd11-4579-b08a-1b1c8e6f5ac2   \n",
       "2  1238829203  71f17703-cd11-4579-b08a-1b1c8e6f5ac2   \n",
       "4  1239496830  0039c7ae-e1a7-4a7d-9b49-0cbc716821a6   \n",
       "5  1239497092  0039c7ae-e1a7-4a7d-9b49-0cbc716821a6   \n",
       "\n",
       "                           release-MBID                        recording-MBID  \n",
       "0  15efe0ab-055a-4562-b290-be39336e49bd  986dd819-7c83-4c9e-905b-6cb65ccbea3b  \n",
       "1  15efe0ab-055a-4562-b290-be39336e49bd  52d46c9b-96f4-4e59-8216-68f8b5ee2b89  \n",
       "2  15efe0ab-055a-4562-b290-be39336e49bd  200c74aa-7d6d-4a9b-8284-35094186a00b  \n",
       "4                                   NaN  06bf6d0c-3094-492e-92fc-4867b9364d0b  \n",
       "5                                   NaN  571b7e68-b7cf-4d33-97e2-b59eb7d00b9d  "
      ]
     },
     "execution_count": 8,
     "metadata": {},
     "output_type": "execute_result"
    }
   ],
   "source": [
    "# fetch df\n",
    "\n",
    "# Use dask.dataframe since it's ~ 14x faster than pandas dataframe! \n",
    "\n",
    "def fetch_df_dd(pth):\n",
    "#     df = dd.read_csv(pth, sep='\\t', names=['timestamp', 'artist-MBID', 'release-MBID', 'recording-MBID'], blocksize=None)\n",
    "    df = pd.read_csv(pth, sep='\\t', names=['timestamp', 'artist-MBID', 'release-MBID', 'recording-MBID'])\n",
    "    \n",
    "    # DROPPING ALL FILES WITHOUT recording-MBID\n",
    "    df = df[-df['recording-MBID'].isna()]\n",
    "    return df\n",
    "\n",
    "df = fetch_df_dd(file_paths[9])\n",
    "print(len(df))\n",
    "df.head()"
   ]
  },
  {
   "cell_type": "code",
   "execution_count": 9,
   "id": "1d3ed4f7",
   "metadata": {},
   "outputs": [],
   "source": [
    "# A function to take single mbid as input and: \n",
    "# 1. cross check with recording table. If present, return the SAME recording-mbid from recording table.\n",
    "# 2. If not in recording table, check in track table. If present, return \n",
    "# 3. If not in recording/track table, check if it exists in the recording_gid_redirect table\n",
    "# 4. If not in any of the above tables, add the mbid to bad_entries list.\n",
    "\n",
    "# Check if a recording-MBID exists in the \"recording\" table. If exists, return the mbid. If not, return None\n",
    "def check_in_recording(rec_mbid):\n",
    "    cursor.execute(\"SELECT gid FROM recording WHERE gid=%(id)s;\", {'id':rec_mbid})\n",
    "    fetch = cursor.fetchone()\n",
    "    \n",
    "    if type(fetch) == tuple:\n",
    "        return fetch[0]\n",
    "    else:\n",
    "        count_not_recording.add(rec_mbid)\n",
    "        return None\n",
    "\n",
    "\n",
    "# If MBID in recording_gid_redirect, return the redirected MBID. Else, return None\n",
    "def check_in_redirect(rec_mbid):\n",
    "    cursor.execute(\"select r.gid from recording r join recording_gid_redirect rgr on rgr.new_id = r.id where rgr.gid = %(id)s;\", {'id':rec_mbid})\n",
    "    fetch = cursor.fetchone()\n",
    "    \n",
    "    if type(fetch) == tuple:\n",
    "        return fetch[0]\n",
    "    else:\n",
    "        count_not_redirect.add(rec_mbid)\n",
    "        return None\n",
    "\n",
    "\n",
    "# Check if a recording-MBID exists in the \"track\" table. If not, return None. \n",
    "# If yes, append the track-mbid to the list track_mbids\n",
    "\n",
    "track_mbids = []\n",
    "def check_in_track(rec_mbid):\n",
    "    cursor.execute(\"SELECT gid FROM track WHERE gid=%(id)s;\", {'id':rec_mbid})\n",
    "    fetch = cursor.fetchone()\n",
    "    \n",
    "    if type(fetch) == tuple:\n",
    "        track_mbids.add(rec_mbid)\n",
    "        return fetch[0]\n",
    "    else:\n",
    "        count_not_track.add(rec_mbid)\n",
    "        return None\n",
    "\n",
    "# Simple function to take single mbid as input and:\n",
    "# Find its canonical MBID\n",
    "def get_canon(rec_mbid):\n",
    "    cursor.execute(\"SELECT canonical_recording_mbid FROM mapping.canonical_recording_redirect WHERE recording_mbid=%(id)s;\", {'id':rec_mbid})\n",
    "    if cursor.fetchone()!=None:\n",
    "        count_not_canonical.add(rec_mbid)\n",
    "        return cursor.fetchone()\n",
    "    else:\n",
    "        return rec_mbid\n",
    "    \n",
    "# Function to validate MBIDs and replace MBIDS through a chain of functions.\n",
    "def check_validity(rec_mbid):\n",
    "    x = check_in_recording(rec_mbid)\n",
    "    \n",
    "    if x != None:\n",
    "        return x\n",
    "    else:\n",
    "        x = check_in_redirect(rec_mbid)\n",
    "    \n",
    "        if x != None:\n",
    "            return x\n",
    "        else:            \n",
    "            x = check_in_track(rec_mbid)\n",
    "            \n",
    "            if x!= None:\n",
    "                return x\n",
    "            else:\n",
    "                return None"
   ]
  },
  {
   "cell_type": "code",
   "execution_count": null,
   "id": "5f7a19cc",
   "metadata": {},
   "outputs": [],
   "source": [
    "# # query = \"SELECT gid FROM track WHERE gid=%(id)s;\"\n",
    "# # cursor.execute(query,{'id':'625826fb-1380-4a0a-8b2a-03690e043c25'})\n",
    "\n",
    "\n",
    "# tup = ('0f42ab32-22cd-4dcf-927b-a8d9a183d68b','327c8bf3-809b-4368-b590-7867a6cc805a')\n",
    "\n",
    "# print(str(tup))\n",
    "# query = '''SELECT id FROM recording \n",
    "# WHERE gid in ('0f42ab32-22cd-4dcf-927b-a8d9a183d68b','327c8bf3-809b-4368-b590-7867a6cc805a');'''\n",
    "# cursor.execute(query)\n",
    "# print(cursor.fetchall())"
   ]
  },
  {
   "cell_type": "code",
   "execution_count": null,
   "id": "00c15bf2",
   "metadata": {},
   "outputs": [
    {
     "name": "stdout",
     "output_type": "stream",
     "text": [
      "0        986dd819-7c83-4c9e-905b-6cb65ccbea3b\n",
      "1        52d46c9b-96f4-4e59-8216-68f8b5ee2b89\n",
      "2        200c74aa-7d6d-4a9b-8284-35094186a00b\n",
      "4        06bf6d0c-3094-492e-92fc-4867b9364d0b\n",
      "5        571b7e68-b7cf-4d33-97e2-b59eb7d00b9d\n",
      "                         ...                 \n",
      "13354    4c3b6406-e144-434f-baab-372577764dbe\n",
      "13355    5f27596a-3bd0-45b0-bd7e-d75ffc2674b0\n",
      "13356    06fe79c6-f43f-46fd-acea-c3df21bb07a6\n",
      "13357    fc8df6e8-8184-47b7-a9db-a36d53d0ea21\n",
      "13358    c7bb57ec-3559-49e7-82a4-071f895b6190\n",
      "Name: recording-MBID, Length: 10694, dtype: object\n"
     ]
    }
   ],
   "source": [
    "rec = df['recording-MBID']\n",
    "print(rec)\n",
    "# print(check_in_recording(rec))\n",
    "# # cursor.execute(\"select * from recording limit 1;\")"
   ]
  },
  {
   "cell_type": "code",
   "execution_count": null,
   "id": "99617c97",
   "metadata": {},
   "outputs": [],
   "source": [
    "# Declaring count sets\n",
    "count_not_recording, count_not_redirect, count_not_track, count_misc, count_not_canonical = set(), set(), set(), set(), set()\n",
    "\n",
    "# Driver function to check validity and get canononical MBID.\n",
    "def driver_function(rec_mbid):\n",
    "    x = check_validity(rec_mbid)\n",
    "    # check_validity checks MBIDs in the following order: is recording-MBID? -> is redirectable-MBID? -> is track-MBID?\n",
    "    # If its not either of the above 3, None is returned.\n",
    "    \n",
    "    if x != None:\n",
    "        return get_canon(rec_mbid)\n",
    "    # If its not None, find its canonical-MBID\n",
    "    else:\n",
    "        return None"
   ]
  },
  {
   "cell_type": "code",
   "execution_count": null,
   "id": "079e1ab5",
   "metadata": {},
   "outputs": [
    {
     "name": "stdout",
     "output_type": "stream",
     "text": [
      "CPU times: user 865 ms, sys: 981 ms, total: 1.85 s\n",
      "Wall time: 19.6 s\n"
     ]
    }
   ],
   "source": [
    "%%time\n",
    "# df2 = df['recording-MBID'].map(driver_function, meta=('x', str)).compute()\n",
    "df2 = df['recording-MBID'].map(driver_function)\n",
    "# track_mbids"
   ]
  },
  {
   "cell_type": "markdown",
   "id": "acc56eae",
   "metadata": {},
   "source": [
    "# Artist Conflation Analysis\n",
    "\n",
    "### Problem Statement:\n",
    "Retrieve a chunk of recording-MBIDs, get their respective artist-MBIDs, and compare these newly found artist-MBIDs with the ones already in MLHD.\n",
    "\n",
    "### Solution:\n",
    "1. Retrieve a chunk of artist & recording-MBIDs\n",
    "2. write a function to accept a series of recording-MBIDs, and get their respective artist-MBIDs\n",
    "3. Use the above function to get artist-MBIDs. Concat these new-MBIDs with the original table\n",
    "4. Now compare new artist-MBIDs with the existing ones. list the recording-MBIDs that don't match.\n",
    "5. Publish results and get them checked with alastair. "
   ]
  },
  {
   "cell_type": "code",
   "execution_count": null,
   "id": "3de43d93",
   "metadata": {},
   "outputs": [],
   "source": [
    "# Function to yield a chunk from dataframe.\n",
    "\n",
    "def yield_chunk(dataframe, chunksize):\n",
    "    l = len(dataframe)\n",
    "    if l<chunksize:\n",
    "        return dataframe\n",
    "    \n",
    "    for i in range(chunksize,l,chunksize):\n",
    "        start = i-chunksize\n",
    "        yield dataframe[start:i].loc[:, ('recording-MBID', 'artist-MBID')]\n",
    "        \n",
    "gen = yield_chunk(df, 5)\n",
    "next(gen)"
   ]
  },
  {
   "cell_type": "code",
   "execution_count": 2,
   "id": "617969c3",
   "metadata": {},
   "outputs": [],
   "source": [
    "# Write a function to accept \n",
    "# select artist_mbids from mapping.canonical_musicbrainz_data where recording_mbid in ();\n",
    "\n",
    "def check_in_redirect(rec_mbid):\n",
    "    query = \"select artist_mbids from mapping.canonical_musicbrainz_data where recording_mbid in %(id)s;\"\n",
    "    cursor.execute(query, {'id':rec_mbid})\n",
    "    fetch = cursor.fetchone()\n",
    "    \n",
    "    if type(fetch) == tuple:\n",
    "        return fetch[0]\n",
    "    else:\n",
    "        count_not_redirect.add(rec_mbid)\n",
    "        return None"
   ]
  }
 ],
 "metadata": {
  "kernelspec": {
   "display_name": "Python 3 (ipykernel)",
   "language": "python",
   "name": "python3"
  },
  "language_info": {
   "codemirror_mode": {
    "name": "ipython",
    "version": 3
   },
   "file_extension": ".py",
   "mimetype": "text/x-python",
   "name": "python",
   "nbconvert_exporter": "python",
   "pygments_lexer": "ipython3",
   "version": "3.8.10"
  }
 },
 "nbformat": 4,
 "nbformat_minor": 5
}
